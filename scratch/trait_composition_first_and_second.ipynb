{
 "cells": [
  {
   "cell_type": "code",
   "execution_count": 1,
   "metadata": {},
   "outputs": [],
   "source": [
    "import pandas as pd"
   ]
  },
  {
   "cell_type": "code",
   "execution_count": 7,
   "metadata": {},
   "outputs": [
    {
     "data": {
      "text/html": [
       "<div>\n",
       "<style scoped>\n",
       "    .dataframe tbody tr th:only-of-type {\n",
       "        vertical-align: middle;\n",
       "    }\n",
       "\n",
       "    .dataframe tbody tr th {\n",
       "        vertical-align: top;\n",
       "    }\n",
       "\n",
       "    .dataframe thead th {\n",
       "        text-align: right;\n",
       "    }\n",
       "</style>\n",
       "<table border=\"1\" class=\"dataframe\">\n",
       "  <thead>\n",
       "    <tr style=\"text-align: right;\">\n",
       "      <th></th>\n",
       "      <th>GameID</th>\n",
       "      <th>Place</th>\n",
       "      <th>Alchemist</th>\n",
       "      <th>Assassin</th>\n",
       "      <th>Avatar</th>\n",
       "      <th>Berserker</th>\n",
       "      <th>Blademaster</th>\n",
       "      <th>Crystal</th>\n",
       "      <th>Desert</th>\n",
       "      <th>Druid</th>\n",
       "      <th>...</th>\n",
       "      <th>Poison</th>\n",
       "      <th>Predator</th>\n",
       "      <th>Ranger</th>\n",
       "      <th>Shadow</th>\n",
       "      <th>Soulbound</th>\n",
       "      <th>Steel</th>\n",
       "      <th>Summoner</th>\n",
       "      <th>Warden</th>\n",
       "      <th>Wind</th>\n",
       "      <th>Woodland</th>\n",
       "    </tr>\n",
       "  </thead>\n",
       "  <tbody>\n",
       "  </tbody>\n",
       "</table>\n",
       "<p>0 rows × 29 columns</p>\n",
       "</div>"
      ],
      "text/plain": [
       "Empty DataFrame\n",
       "Columns: [GameID, Place, Alchemist, Assassin, Avatar, Berserker, Blademaster, Crystal, Desert, Druid, Electric, Glacial, Inferno, Light, Lunar, Mage, Mountain, Mystic, Ocean, Poison, Predator, Ranger, Shadow, Soulbound, Steel, Summoner, Warden,  Wind, Woodland]\n",
       "Index: []\n",
       "\n",
       "[0 rows x 29 columns]"
      ]
     },
     "execution_count": 7,
     "metadata": {},
     "output_type": "execute_result"
    }
   ],
   "source": [
    "# Generate the new dataframe with the columns as described above with the GameID, Place, and 28 different synergies\n",
    "\n",
    "columns = [\"GameID\", \"Place\", 'Alchemist','Assassin', 'Avatar', 'Berserker', 'Blademaster', 'Crystal', \n",
    "           'Desert', 'Druid', 'Electric', 'Glacial', 'Inferno', 'Light', 'Lunar', 'Mage', 'Mountain', \n",
    "           'Mystic', 'Ocean', 'Poison', 'Predator', 'Ranger', 'Shadow', 'Soulbound', 'Steel', 'Summoner', \n",
    "           'Warden', ' Wind', 'Woodland']\n",
    "\n",
    "pd.DataFrame(columns = columns)"
   ]
  },
  {
   "cell_type": "code",
   "execution_count": null,
   "metadata": {},
   "outputs": [],
   "source": [
    "# Take only the columns with GameID, Place, and Traits and place into a summary dataframe\n",
    "\n"
   ]
  }
 ],
 "metadata": {
  "kernelspec": {
   "display_name": "Python 3",
   "language": "python",
   "name": "python3"
  },
  "language_info": {
   "codemirror_mode": {
    "name": "ipython",
    "version": 3
   },
   "file_extension": ".py",
   "mimetype": "text/x-python",
   "name": "python",
   "nbconvert_exporter": "python",
   "pygments_lexer": "ipython3",
   "version": "3.7.4"
  }
 },
 "nbformat": 4,
 "nbformat_minor": 4
}
